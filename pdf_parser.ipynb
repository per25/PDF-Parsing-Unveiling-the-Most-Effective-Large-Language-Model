{
 "cells": [
  {
   "cell_type": "code",
   "execution_count": 5,
   "metadata": {},
   "outputs": [],
   "source": [
    "from langchain_community.document_loaders import (\n",
    "    PyPDFLoader,\n",
    "    UnstructuredPDFLoader,\n",
    "    PDFMinerLoader,\n",
    "    PDFMinerPDFasHTMLLoader,\n",
    ")\n",
    "from io import StringIO\n",
    "from pdfminer.high_level import extract_text_to_fp\n",
    "from pdfminer.layout import LAParams\n",
    "import time\n",
    "import psutil\n",
    "import os\n",
    "import fitz\n",
    "from tqdm import tqdm\n",
    "from bs4 import BeautifulSoup\n",
    "import re\n"
   ]
  },
  {
   "cell_type": "code",
   "execution_count": 6,
   "metadata": {},
   "outputs": [],
   "source": [
    "\n",
    "def performance_decorator(func):\n",
    "    \"\"\"\n",
    "    A decorator that measures the performance metrics of a function.\n",
    "\n",
    "    Args:\n",
    "        func (function): The function to be decorated.\n",
    "\n",
    "    Returns:\n",
    "        function: The decorated function.\n",
    "\n",
    "    \"\"\"\n",
    "    def wrapper(*args, **kwargs):\n",
    "        start_time = time.time()\n",
    "        start_cpu = psutil.cpu_percent(interval=None)\n",
    "        start_memory = psutil.Process(os.getpid()).memory_info().rss / 1024 ** 2\n",
    "\n",
    "        result = func(*args, **kwargs)\n",
    "\n",
    "        end_time = time.time()\n",
    "        end_cpu = psutil.cpu_percent(interval=None)\n",
    "        end_memory = psutil.Process(os.getpid()).memory_info().rss / 1024 ** 2\n",
    "\n",
    "        metrics = f\"Execution time: {end_time - start_time} seconds\\n\"\n",
    "        metrics += f\"CPU usage: {end_cpu - start_cpu} percent\\n\"\n",
    "        metrics += f\"Memory usage: {end_memory - start_memory} MB\\n\"\n",
    "\n",
    "        with open('output_data/performance_metrics.txt', 'a') as f:\n",
    "            f.write(f\"Performance metrics for {func.__name__}:\\n\")\n",
    "            f.write(metrics)\n",
    "            f.write(\"\\n\")\n",
    "\n",
    "        return result\n",
    "    return wrapper\n"
   ]
  },
  {
   "cell_type": "code",
   "execution_count": 7,
   "metadata": {},
   "outputs": [],
   "source": [
    "@performance_decorator\n",
    "def process_pdf_file_PyPDF(file_path, output_file):\n",
    "    loader = PyPDFLoader(file_path)\n",
    "    pages = loader.load_and_split()\n",
    "    \n",
    "    # Save the data to a text file for inspection\n",
    "    with open(output_file, \"w\", encoding='utf-8') as f:\n",
    "        for i, page in enumerate(pages):\n",
    "            f.write(page.page_content)\n",
    "            f.write(\"\\n\")  # Optional: add a newline between pages"
   ]
  },
  {
   "cell_type": "code",
   "execution_count": 8,
   "metadata": {},
   "outputs": [],
   "source": [
    "@performance_decorator\n",
    "def process_pdf_file_UnstructuredPDF_default_strategy(file_path, output_file):\n",
    "    loader = UnstructuredPDFLoader(file_path, mode=\"elements\")\n",
    "    pages = loader.load_and_split()\n",
    "    \n",
    "    # Save the data to a text file for inspection\n",
    "    with open(output_file, \"w\", encoding='utf-8') as f:\n",
    "        for i, page in enumerate(pages):\n",
    "            f.write(page.page_content)\n",
    "            f.write(\"\\n\")  # Optional: add a newline between pages"
   ]
  },
  {
   "cell_type": "code",
   "execution_count": 9,
   "metadata": {},
   "outputs": [],
   "source": [
    "\n",
    "@performance_decorator\n",
    "def process_pdf_file_UnstructuredPDF_OCR_only_strategy(file_path, output_file):\n",
    "    loader = UnstructuredPDFLoader(file_path, mode=\"elements\", strategy='ocr_only')\n",
    "    pages = loader.load_and_split()\n",
    "    \n",
    "    # Save the data to a text file for inspection\n",
    "    with open(output_file, \"w\", encoding='utf-8') as f:\n",
    "        for i, page in enumerate(pages):\n",
    "            f.write(page.page_content)\n",
    "            f.write(\"\\n\")"
   ]
  },
  {
   "cell_type": "code",
   "execution_count": 10,
   "metadata": {},
   "outputs": [],
   "source": [
    "@performance_decorator\n",
    "def process_pdf_file_UnstructuredPDF_hig_res_strategy(file_path, output_file):\n",
    "    loader = UnstructuredPDFLoader(file_path, mode=\"elements\", strategy='hi_res')\n",
    "    pages = loader.load_and_split()\n",
    "    \n",
    "    # Save the data to a text file for inspection\n",
    "    with open(output_file, \"w\", encoding='utf-8') as f:\n",
    "        for i, page in enumerate(pages):\n",
    "            f.write(page.page_content)\n",
    "            f.write(\"\\n\")"
   ]
  },
  {
   "cell_type": "code",
   "execution_count": 11,
   "metadata": {},
   "outputs": [],
   "source": [
    "@performance_decorator\n",
    "def process_pdf_file_PDFMiner(file_path, output_file):\n",
    "    loader = PDFMinerLoader(file_path)\n",
    "    data = loader.load()\n",
    "\n",
    "    # Save the data to a text file for inspection\n",
    "    with open(output_file, \"w\", encoding='utf-8') as f:\n",
    "        for i, page in enumerate(data):\n",
    "            f.write(page.page_content)\n",
    "            f.write(\"\\n\")"
   ]
  },
  {
   "cell_type": "code",
   "execution_count": 12,
   "metadata": {},
   "outputs": [],
   "source": [
    "@performance_decorator\n",
    "def process_pdf_file_PDFMiner_as_HTML(file_path, output_file):\n",
    "    loader = PDFMinerPDFasHTMLLoader(file_path)\n",
    "    data = loader.load()[0]   # entire PDF is loaded as a single Document\n",
    "    # print(data)\n",
    "    soup = BeautifulSoup(data.page_content,'html.parser')\n",
    "    content = soup.find_all('div')\n",
    "\n",
    "    # save the content to a html file \n",
    "    with open(output_file, \"w\", encoding='utf-8') as f:\n",
    "        f.write(str(content))\n",
    "\n",
    "    cur_fs = None\n",
    "    cur_text = ''\n",
    "    snippets = []   # first collect all snippets that have the same font size\n",
    "    for c in content:\n",
    "        sp = c.find('span')\n",
    "        if not sp:\n",
    "            continue\n",
    "        st = sp.get('style')\n",
    "        if not st:\n",
    "            continue\n",
    "        fs = re.findall('font-size:(\\d+)px',st)\n",
    "        if not fs:\n",
    "            continue\n",
    "        fs = int(fs[0])\n",
    "        if not cur_fs:\n",
    "            cur_fs = fs\n",
    "        if fs == cur_fs:\n",
    "            cur_text += c.text\n",
    "        else:\n",
    "            snippets.append((cur_text,cur_fs))\n",
    "            cur_fs = fs\n",
    "            cur_text = c.text\n",
    "    snippets.append((cur_text,cur_fs))\n",
    "\n",
    "    # print the snippets\n",
    "    for s in snippets:\n",
    "        # print(s)\n",
    "        pass"
   ]
  },
  {
   "cell_type": "code",
   "execution_count": 13,
   "metadata": {},
   "outputs": [],
   "source": [
    "@performance_decorator\n",
    "def process_pdf_file_PyMuPDF(file_path, output_file):\n",
    "    # TODO Add the ocr \n",
    "\n",
    "    doc = fitz.open(file_path) # open a document\n",
    "    \n",
    "    out = open(output_file, \"wb\") # create a text output\n",
    "    \n",
    "    for page in doc: # iterate the document pages\n",
    "        text = page.get_text().encode(\"utf8\") # get plain text (is in UTF-8)\n",
    "        out.write(text) # write text of page\n",
    "        out.write(bytes((12,))) # write page delimiter (form feed 0x0C)\n",
    "    \n",
    "    out.close()"
   ]
  },
  {
   "cell_type": "code",
   "execution_count": 14,
   "metadata": {},
   "outputs": [],
   "source": [
    "def process_pdf_file_pdfminerSix(file_path, output_file):\n",
    "    output_string = StringIO()\n",
    "    with open(file_path, 'rb') as f:\n",
    "        extract_text_to_fp(f, output_string, laparams=LAParams())\n",
    "\n",
    "    # Save the data to a text file for inspection\n",
    "    with open(output_file, \"w\", encoding='utf-8') as f:\n",
    "        f.write(output_string.getvalue().strip())"
   ]
  },
  {
   "cell_type": "code",
   "execution_count": 15,
   "metadata": {},
   "outputs": [],
   "source": [
    "def reset_performance_metrics_file():\n",
    "    \"\"\"\n",
    "    Resets the performance metrics file by clearing its contents and adding a header.\n",
    "    \"\"\"\n",
    "    with open('output_data/performance_metrics.txt', 'w') as f:\n",
    "        f.write(\"Performance metrics for each function:\\n\\n\")"
   ]
  },
  {
   "cell_type": "code",
   "execution_count": 16,
   "metadata": {},
   "outputs": [],
   "source": [
    "\n",
    "def clear_output_files():\n",
    "    \"\"\"\n",
    "    Clears all the output files in the 'output_data' directory with extensions '.txt', '.html', and '.md'.\n",
    "    \"\"\"\n",
    "    for file in os.listdir(\"output_data\"):\n",
    "        if file.endswith(\".txt\") or file.endswith(\".html\") or file.endswith(\".md\"):\n",
    "            os.remove(os.path.join(\"output_data\", file))"
   ]
  },
  {
   "cell_type": "code",
   "execution_count": 19,
   "metadata": {},
   "outputs": [
    {
     "name": "stderr",
     "output_type": "stream",
     "text": [
      "Processing output_data/test1_UnstructuredPDF_hi_res.txt:  12%|█▎        | 1/8 [00:00<00:06,  1.04it/s]This function will be deprecated in a future release and `unstructured` will simply use the DEFAULT_MODEL from `unstructured_inference.model.base` to set default model name\n",
      "Processing output_data/test1_pdfminerSix.txt:  88%|████████▊ | 7/8 [01:49<00:14, 14.10s/it]           "
     ]
    },
    {
     "name": "stdout",
     "output_type": "stream",
     "text": [
      "An error occurred while processing output_data/test1_PyMuPDF.txt: module 'fitz' has no attribute 'open'\n"
     ]
    },
    {
     "name": "stderr",
     "output_type": "stream",
     "text": [
      "Processing output_data/test1_pdfminerSix.txt: 100%|██████████| 8/8 [01:51<00:00, 13.88s/it]\n"
     ]
    }
   ],
   "source": [
    "def run_all(file_path) -> None:\n",
    "    \"\"\"\n",
    "    Runs all the PDF processing functions and saves the output to respective files.\n",
    "    \"\"\"\n",
    "    clear_output_files()\n",
    "    reset_performance_metrics_file()\n",
    "\n",
    "    tasks = [\n",
    "        (process_pdf_file_PyPDF, (file_path, \"output_data/test1_PyPDF.txt\")),\n",
    "        (process_pdf_file_UnstructuredPDF_hig_res_strategy, (file_path, \"output_data/test1_UnstructuredPDF_hi_res.txt\")),\n",
    "        (process_pdf_file_UnstructuredPDF_default_strategy, (file_path, \"output_data/test1_UnstructuredPDF.txt\")),\n",
    "        (process_pdf_file_UnstructuredPDF_OCR_only_strategy, (file_path, \"output_data/test1_UnstructuredPDF_OCR.txt\")),\n",
    "        (process_pdf_file_PDFMiner, (file_path, \"output_data/test1_PDFMiner.txt\")),\n",
    "        (process_pdf_file_PDFMiner_as_HTML, (file_path, \"output_data/test1_PDFMiner_as_HTML.html\")),\n",
    "        (process_pdf_file_PyMuPDF, (file_path, \"output_data/test1_PyMuPDF.txt\")),\n",
    "        (process_pdf_file_pdfminerSix, (file_path, \"output_data/test1_pdfminerSix.txt\")),\n",
    "    ]\n",
    "    with tqdm(total=len(tasks)) as pbar:\n",
    "        for task in tasks:\n",
    "            os.system('cls' if os.name == 'nt' else 'clear')  # Clear the console\n",
    "            func, args = task\n",
    "            pbar.set_description(f\"Processing {args[1]}\")\n",
    "            try:\n",
    "                func(*args)\n",
    "            except Exception as e:\n",
    "                print(f\"An error occurred while processing {args[1]}: {str(e)}\")\n",
    "            pbar.update()\n",
    "\n",
    "run_all(\"input_data/test1.pdf\")"
   ]
  }
 ],
 "metadata": {
  "kernelspec": {
   "display_name": "Python 3",
   "language": "python",
   "name": "python3"
  },
  "language_info": {
   "codemirror_mode": {
    "name": "ipython",
    "version": 3
   },
   "file_extension": ".py",
   "mimetype": "text/x-python",
   "name": "python",
   "nbconvert_exporter": "python",
   "pygments_lexer": "ipython3",
   "version": "3.11.5"
  }
 },
 "nbformat": 4,
 "nbformat_minor": 2
}
